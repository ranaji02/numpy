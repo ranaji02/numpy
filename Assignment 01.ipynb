{
 "cells": [
  {
   "cell_type": "markdown",
   "metadata": {},
   "source": [
    "<img src=\"http://cfs22.simplicdn.net/ice9/new_logo.svgz \"/>\n",
    "\n",
    "# Assignment 01: Evaluate the GDP Dataset\n",
    "\n",
    "*The comments/sections provided are your cues to perform the assignment. You don't need to limit yourself to the number of rows/cells provided. You can add additional rows in each section to add more lines of code.*\n",
    "\n",
    "*If at any point in time you need help on solving this assignment, view our demo video to understand the different steps of the code.*\n",
    "\n",
    "**Happy coding!**\n",
    "\n",
    "* * *"
   ]
  },
  {
   "cell_type": "markdown",
   "metadata": {},
   "source": [
    "#### 1: View and add the dataset"
   ]
  },
  {
   "cell_type": "code",
   "execution_count": 17,
   "metadata": {
    "collapsed": true
   },
   "outputs": [],
   "source": [
    "#Import required library\n",
    "import numpy as np\n"
   ]
  },
  {
   "cell_type": "code",
   "execution_count": 18,
   "metadata": {},
   "outputs": [
    {
     "data": {
      "text/plain": [
       "'/Users/kumarabhishekrana/data science/COURSE2 MATERIALS/Lesson 5'"
      ]
     },
     "execution_count": 18,
     "metadata": {},
     "output_type": "execute_result"
    }
   ],
   "source": [
    "import os\n",
    "os.getcwd()"
   ]
  },
  {
   "cell_type": "code",
   "execution_count": 19,
   "metadata": {
    "collapsed": true
   },
   "outputs": [],
   "source": [
    "countries=['Algeria','Angola','Argentina','Australia','Austria','Bahamas','Bangladesh','Belarus','Belgium','Bhutan','Brazil','Bulgaria','Cambodia','Cameroon','Chile','China','Colombia','Cyprus','Denmark','El Salvador','Estonia','Ethiopia','Fiji','Finland','France','Georgia','Ghana','Grenada','Guinea','Haiti','Honduras','Hungary','India','Indonesia','Ireland','Italy','Japan','Kenya', 'South Korea','Liberia','Malaysia','Mexico', 'Morocco','Nepal','New Zealand','Norway','Pakistan', 'Peru','Qatar','Russia','Singapore','South Africa','Spain','Sweden','Switzerland','Thailand', 'United Arab Emirates','United Kingdom','United States','Uruguay','Venezuela','Vietnam','Zimbabwe']\n",
    "countries=np.array(countries)\n",
    "GDP=[2255.225482,629.9553062,11601.63022,25306.82494,27266.40335,19466.99052,588.3691778,2890.345675,24733.62696,1445.760002,4803.398244,2618.876037,590.4521124,665.7982328,7122.938458,2639.54156,3362.4656,15378.16704,30860.12808,2579.115607,6525.541272,229.6769525,2242.689259,27570.4852,23016.84778,1334.646773,402.6953275,6047.200797,394.1156638,385.5793827,1414.072488,5745.981529,837.7464011,1206.991065,27715.52837,18937.24998,39578.07441,478.2194906,16684.21278,279.2204061,5345.213415,6288.25324,1908.304416,274.8728621,14646.42094,40034.85063,672.1547506,3359.517402,36152.66676,3054.727742,33529.83052,3825.093781,15428.32098,33630.24604,39170.41371,2699.123242,21058.43643,28272.40661,37691.02733,9581.05659,5671.912202,757.4009286,347.7456605]\n",
    "GDP=np.array(GDP)"
   ]
  },
  {
   "cell_type": "markdown",
   "metadata": {
    "collapsed": true
   },
   "source": [
    "#### 2: Find and print the name of the country with the highest GDP"
   ]
  },
  {
   "cell_type": "code",
   "execution_count": 20,
   "metadata": {
    "collapsed": false
   },
   "outputs": [
    {
     "data": {
      "text/plain": [
       "45"
      ]
     },
     "execution_count": 20,
     "metadata": {},
     "output_type": "execute_result"
    }
   ],
   "source": [
    "#Use the argmax() method to find the highest GDP\n",
    "GDP.argmax()"
   ]
  },
  {
   "cell_type": "code",
   "execution_count": 21,
   "metadata": {
    "collapsed": true
   },
   "outputs": [
    {
     "name": "stdout",
     "output_type": "stream",
     "text": [
      "Norway\n"
     ]
    }
   ],
   "source": [
    "#Print the name of the country\n",
    "print(countries[GDP.argmax()])"
   ]
  },
  {
   "cell_type": "markdown",
   "metadata": {
    "collapsed": false
   },
   "source": [
    "#### 3: Find and print the name of the country with the lowest GDP"
   ]
  },
  {
   "cell_type": "code",
   "execution_count": 22,
   "metadata": {
    "collapsed": true
   },
   "outputs": [
    {
     "data": {
      "text/plain": [
       "21"
      ]
     },
     "execution_count": 22,
     "metadata": {},
     "output_type": "execute_result"
    }
   ],
   "source": [
    "#Use the argmin() method to find the lowest GDP\n",
    "GDP.argmin()"
   ]
  },
  {
   "cell_type": "code",
   "execution_count": 23,
   "metadata": {
    "collapsed": true
   },
   "outputs": [
    {
     "name": "stdout",
     "output_type": "stream",
     "text": [
      "Ethiopia\n"
     ]
    }
   ],
   "source": [
    "#Print the name of the country\n",
    "print(countries[GDP.argmin()])"
   ]
  },
  {
   "cell_type": "markdown",
   "metadata": {
    "collapsed": false
   },
   "source": [
    "#### 4: Print out text ('evaluating country') and input value ('country name') iteratively"
   ]
  },
  {
   "cell_type": "code",
   "execution_count": 27,
   "metadata": {},
   "outputs": [
    {
     "name": "stdout",
     "output_type": "stream",
     "text": [
      "evaluating country  Algeria\n",
      "evaluating country  Angola\n",
      "evaluating country  Argentina\n",
      "evaluating country  Australia\n",
      "evaluating country  Austria\n",
      "evaluating country  Bahamas\n",
      "evaluating country  Bangladesh\n",
      "evaluating country  Belarus\n",
      "evaluating country  Belgium\n",
      "evaluating country  Bhutan\n",
      "evaluating country  Brazil\n",
      "evaluating country  Bulgaria\n",
      "evaluating country  Cambodia\n",
      "evaluating country  Cameroon\n",
      "evaluating country  Chile\n",
      "evaluating country  China\n",
      "evaluating country  Colombia\n",
      "evaluating country  Cyprus\n",
      "evaluating country  Denmark\n",
      "evaluating country  El Salvador\n",
      "evaluating country  Estonia\n",
      "evaluating country  Ethiopia\n",
      "evaluating country  Fiji\n",
      "evaluating country  Finland\n",
      "evaluating country  France\n",
      "evaluating country  Georgia\n",
      "evaluating country  Ghana\n",
      "evaluating country  Grenada\n",
      "evaluating country  Guinea\n",
      "evaluating country  Haiti\n",
      "evaluating country  Honduras\n",
      "evaluating country  Hungary\n",
      "evaluating country  India\n",
      "evaluating country  Indonesia\n",
      "evaluating country  Ireland\n",
      "evaluating country  Italy\n",
      "evaluating country  Japan\n",
      "evaluating country  Kenya\n",
      "evaluating country  South Korea\n",
      "evaluating country  Liberia\n",
      "evaluating country  Malaysia\n",
      "evaluating country  Mexico\n",
      "evaluating country  Morocco\n",
      "evaluating country  Nepal\n",
      "evaluating country  New Zealand\n",
      "evaluating country  Norway\n",
      "evaluating country  Pakistan\n",
      "evaluating country  Peru\n",
      "evaluating country  Qatar\n",
      "evaluating country  Russia\n",
      "evaluating country  Singapore\n",
      "evaluating country  South Africa\n",
      "evaluating country  Spain\n",
      "evaluating country  Sweden\n",
      "evaluating country  Switzerland\n",
      "evaluating country  Thailand\n",
      "evaluating country  United Arab Emirates\n",
      "evaluating country  United Kingdom\n",
      "evaluating country  United States\n",
      "evaluating country  Uruguay\n",
      "evaluating country  Venezuela\n",
      "evaluating country  Vietnam\n",
      "evaluating country  Zimbabwe\n"
     ]
    }
   ],
   "source": [
    "#Use a for loop to print the required output\n",
    "for country in countries:\n",
    "    print(\"evaluating country \",country)"
   ]
  },
  {
   "cell_type": "code",
   "execution_count": 9,
   "metadata": {},
   "outputs": [
    {
     "name": "stdout",
     "output_type": "stream",
     "text": [
      "evaluating country  Algeria\n",
      "evaluating country  Angola\n",
      "evaluating country  Argentina\n",
      "evaluating country  Australia\n",
      "evaluating country  Austria\n",
      "evaluating country  Bahamas\n",
      "evaluating country  Bangladesh\n",
      "evaluating country  Belarus\n",
      "evaluating country  Belgium\n",
      "evaluating country  Bhutan\n",
      "evaluating country  Brazil\n",
      "evaluating country  Bulgaria\n",
      "evaluating country  Cambodia\n",
      "evaluating country  Cameroon\n",
      "evaluating country  Chile\n",
      "evaluating country  China\n",
      "evaluating country  Colombia\n",
      "evaluating country  Cyprus\n",
      "evaluating country  Denmark\n",
      "evaluating country  El Salvador\n",
      "evaluating country  Estonia\n",
      "evaluating country  Ethiopia\n",
      "evaluating country  Fiji\n",
      "evaluating country  Finland\n",
      "evaluating country  France\n",
      "evaluating country  Georgia\n",
      "evaluating country  Ghana\n",
      "evaluating country  Grenada\n",
      "evaluating country  Guinea\n",
      "evaluating country  Haiti\n",
      "evaluating country  Honduras\n",
      "evaluating country  Hungary\n",
      "evaluating country  India\n",
      "evaluating country  Indonesia\n",
      "evaluating country  Ireland\n",
      "evaluating country  Italy\n",
      "evaluating country  Japan\n",
      "evaluating country  Kenya\n",
      "evaluating country  South Korea\n",
      "evaluating country  Liberia\n",
      "evaluating country  Malaysia\n",
      "evaluating country  Mexico\n",
      "evaluating country  Morocco\n",
      "evaluating country  Nepal\n",
      "evaluating country  New Zealand\n",
      "evaluating country  Norway\n",
      "evaluating country  Pakistan\n",
      "evaluating country  Peru\n",
      "evaluating country  Qatar\n",
      "evaluating country  Russia\n",
      "evaluating country  Singapore\n",
      "evaluating country  South Africa\n",
      "evaluating country  Spain\n",
      "evaluating country  Sweden\n",
      "evaluating country  Switzerland\n",
      "evaluating country  Thailand\n",
      "evaluating country  United Arab Emirates\n",
      "evaluating country  United Kingdom\n",
      "evaluating country  United States\n",
      "evaluating country  Uruguay\n",
      "evaluating country  Venezuela\n",
      "evaluating country  Vietnam\n",
      "evaluating country  Zimbabwe\n"
     ]
    }
   ],
   "source": [
    "for i in range(len(countries)):\n",
    "    print(\"evaluating country \",countries[i])"
   ]
  },
  {
   "cell_type": "markdown",
   "metadata": {},
   "source": [
    "#### 5: Print out the entire list of the countries with their GDPs"
   ]
  },
  {
   "cell_type": "code",
   "execution_count": 10,
   "metadata": {
    "collapsed": false
   },
   "outputs": [
    {
     "name": "stdout",
     "output_type": "stream",
     "text": [
      "2255.225482  :  Algeria\n",
      "629.9553062  :  Angola\n",
      "11601.63022  :  Argentina\n",
      "25306.82494  :  Australia\n",
      "27266.40335  :  Austria\n",
      "19466.99052  :  Bahamas\n",
      "588.3691778  :  Bangladesh\n",
      "2890.345675  :  Belarus\n",
      "24733.62696  :  Belgium\n",
      "1445.760002  :  Bhutan\n",
      "4803.398244  :  Brazil\n",
      "2618.876037  :  Bulgaria\n",
      "590.4521124  :  Cambodia\n",
      "665.7982328  :  Cameroon\n",
      "7122.938458  :  Chile\n",
      "2639.54156  :  China\n",
      "3362.4656  :  Colombia\n",
      "15378.16704  :  Cyprus\n",
      "30860.12808  :  Denmark\n",
      "2579.115607  :  El Salvador\n",
      "6525.541272  :  Estonia\n",
      "229.6769525  :  Ethiopia\n",
      "2242.689259  :  Fiji\n",
      "27570.4852  :  Finland\n",
      "23016.84778  :  France\n",
      "1334.646773  :  Georgia\n",
      "402.6953275  :  Ghana\n",
      "6047.200797  :  Grenada\n",
      "394.1156638  :  Guinea\n",
      "385.5793827  :  Haiti\n",
      "1414.072488  :  Honduras\n",
      "5745.981529  :  Hungary\n",
      "837.7464011  :  India\n",
      "1206.991065  :  Indonesia\n",
      "27715.52837  :  Ireland\n",
      "18937.24998  :  Italy\n",
      "39578.07441  :  Japan\n",
      "478.2194906  :  Kenya\n",
      "16684.21278  :  South Korea\n",
      "279.2204061  :  Liberia\n",
      "5345.213415  :  Malaysia\n",
      "6288.25324  :  Mexico\n",
      "1908.304416  :  Morocco\n",
      "274.8728621  :  Nepal\n",
      "14646.42094  :  New Zealand\n",
      "40034.85063  :  Norway\n",
      "672.1547506  :  Pakistan\n",
      "3359.517402  :  Peru\n",
      "36152.66676  :  Qatar\n",
      "3054.727742  :  Russia\n",
      "33529.83052  :  Singapore\n",
      "3825.093781  :  South Africa\n",
      "15428.32098  :  Spain\n",
      "33630.24604  :  Sweden\n",
      "39170.41371  :  Switzerland\n",
      "2699.123242  :  Thailand\n",
      "21058.43643  :  United Arab Emirates\n",
      "28272.40661  :  United Kingdom\n",
      "37691.02733  :  United States\n",
      "9581.05659  :  Uruguay\n",
      "5671.912202  :  Venezuela\n",
      "757.4009286  :  Vietnam\n",
      "347.7456605  :  Zimbabwe\n"
     ]
    }
   ],
   "source": [
    "#Use a for loop to print the required list\n",
    "for i in range (len(countries)):\n",
    "    print(GDP[i],\" : \",countries[i])"
   ]
  },
  {
   "cell_type": "markdown",
   "metadata": {
    "collapsed": false
   },
   "source": [
    "#### 6: Print the following:\n",
    "1. Highest GPD value\n",
    "2. Lowest GDP value\n",
    "3. Mean GDP value\n",
    "4. Standardized GDP value\n",
    "5. Sum of all the GDPs"
   ]
  },
  {
   "cell_type": "code",
   "execution_count": 11,
   "metadata": {
    "collapsed": true
   },
   "outputs": [
    {
     "data": {
      "text/plain": [
       "40034.85063"
      ]
     },
     "execution_count": 11,
     "metadata": {},
     "output_type": "execute_result"
    }
   ],
   "source": [
    "GDP.max()"
   ]
  },
  {
   "cell_type": "code",
   "execution_count": 12,
   "metadata": {},
   "outputs": [
    {
     "data": {
      "text/plain": [
       "229.6769525"
      ]
     },
     "execution_count": 12,
     "metadata": {},
     "output_type": "execute_result"
    }
   ],
   "source": [
    "GDP.min()"
   ]
  },
  {
   "cell_type": "code",
   "execution_count": 13,
   "metadata": {},
   "outputs": [
    {
     "data": {
      "text/plain": [
       "11289.409271639683"
      ]
     },
     "execution_count": 13,
     "metadata": {},
     "output_type": "execute_result"
    }
   ],
   "source": [
    "GDP.mean()"
   ]
  },
  {
   "cell_type": "code",
   "execution_count": 14,
   "metadata": {},
   "outputs": [
    {
     "data": {
      "text/plain": [
       "12743.828910617945"
      ]
     },
     "execution_count": 14,
     "metadata": {},
     "output_type": "execute_result"
    }
   ],
   "source": [
    "GDP.std()"
   ]
  },
  {
   "cell_type": "code",
   "execution_count": 15,
   "metadata": {},
   "outputs": [
    {
     "data": {
      "text/plain": [
       "711232.7841133"
      ]
     },
     "execution_count": 15,
     "metadata": {},
     "output_type": "execute_result"
    }
   ],
   "source": [
    "GDP.sum()"
   ]
  },
  {
   "cell_type": "code",
   "execution_count": null,
   "metadata": {},
   "outputs": [],
   "source": []
  }
 ],
 "metadata": {
  "kernelspec": {
   "display_name": "Python 3",
   "language": "python",
   "name": "python3"
  },
  "language_info": {
   "codemirror_mode": {
    "name": "ipython",
    "version": 3
   },
   "file_extension": ".py",
   "mimetype": "text/x-python",
   "name": "python",
   "nbconvert_exporter": "python",
   "pygments_lexer": "ipython3",
   "version": "3.10.2"
  }
 },
 "nbformat": 4,
 "nbformat_minor": 0
}
